{
 "cells": [
  {
   "cell_type": "markdown",
   "id": "dd14b58c-dbd8-46e2-b9ea-69c7dd725395",
   "metadata": {},
   "source": [
    "# Notebook: Collect HTML Documents"
   ]
  },
  {
   "cell_type": "markdown",
   "id": "236c1bc8-f4be-445b-a931-9591a9efde3f",
   "metadata": {},
   "source": [
    "This notebook is used to scrape the pages listing the reviews of a specific restaurant. So first, the pages with the reviews are collected in the form of .html files."
   ]
  },
  {
   "cell_type": "markdown",
   "id": "365ed91e-ce91-40e2-a39f-aabb6718ca5b",
   "metadata": {},
   "source": [
    "## Packages"
   ]
  },
  {
   "cell_type": "code",
   "execution_count": 1,
   "id": "29194bd1-ac51-4e02-9d54-9aff982f8fdf",
   "metadata": {
    "tags": []
   },
   "outputs": [],
   "source": [
    "from bs4 import BeautifulSoup\n",
    "import requests\n",
    "import json"
   ]
  },
  {
   "cell_type": "code",
   "execution_count": 2,
   "id": "e4b3c474-d17c-4898-9a90-f0bce3050fe6",
   "metadata": {},
   "outputs": [],
   "source": [
    "import urllib3\n",
    "urllib3.disable_warnings(urllib3.exceptions.InsecureRequestWarning)"
   ]
  },
  {
   "cell_type": "markdown",
   "id": "835bc8cd-1006-4be0-ab82-11c381b5ba31",
   "metadata": {
    "tags": []
   },
   "source": [
    "## Constants"
   ]
  },
  {
   "cell_type": "code",
   "execution_count": 3,
   "id": "f5995d10-7838-4083-bd93-3b6eaf321c02",
   "metadata": {
    "tags": []
   },
   "outputs": [],
   "source": [
    "# Source: https://stackoverflow.com/questions/69946941/python-beautifulsoup-web-scraping-tripadvisor-view-a-review\n",
    "REQUEST_HEADER = {\n",
    "    'Access-Control-Allow-Origin': '*',\n",
    "    'Access-Control-Allow-Methods': 'GET',\n",
    "    'Access-Control-Allow-Headers': 'Content-Type',\n",
    "    'accept': '*/*',\n",
    "    'accept-encoding': 'gzip, deflate',\n",
    "    'accept-language': 'en,mr;q=0.9',\n",
    "    'User-Agent': 'Mozilla/5.0 (Windows NT 10.0; Win64; x64) AppleWebKit/537.36 (KHTML, like Gecko) Chrome/95.0.4638.69 Safari/537.36'\n",
    "}"
   ]
  },
  {
   "cell_type": "code",
   "execution_count": 4,
   "id": "4f65dd6b-80e1-4e31-bcdf-9914c848cb3b",
   "metadata": {
    "tags": []
   },
   "outputs": [],
   "source": [
    "RESTAURANT_URLS = \"restaurants.json\"\n",
    "PAGES_RESTAURANTS_PATH = \"pages_restaurants_html/\"\n",
    "RESTAURANT_METADATA_WITH_HIGHEST_PAGE_INDEX_PATH = \"restaurant_metadata_with_highest_page_index.json\""
   ]
  },
  {
   "cell_type": "markdown",
   "id": "84e5483c-9cb7-4d0d-b65a-e2c2a1089732",
   "metadata": {},
   "source": [
    "## Code"
   ]
  },
  {
   "cell_type": "markdown",
   "id": "337719e1-6119-4a16-842d-d34cd8b2bb81",
   "metadata": {},
   "source": [
    "### Load Dataset"
   ]
  },
  {
   "cell_type": "code",
   "execution_count": 5,
   "id": "7dd56414-5260-40ce-8b6d-7834cc75c86a",
   "metadata": {
    "tags": []
   },
   "outputs": [],
   "source": [
    "with open(RESTAURANT_URLS, 'r') as json_file:\n",
    "    restaurant_metadata = json.load(json_file)"
   ]
  },
  {
   "cell_type": "code",
   "execution_count": 6,
   "id": "7adc1e68-f6f2-42c2-bd5d-1e74674dff76",
   "metadata": {
    "tags": []
   },
   "outputs": [],
   "source": [
    "def get_html_by_url(url):\n",
    "    response = requests.get(url, headers=REQUEST_HEADER)\n",
    "    html_content = response.text\n",
    "    return html_content"
   ]
  },
  {
   "cell_type": "markdown",
   "id": "924915cd-67ea-479d-b3a2-18fa5526c142",
   "metadata": {},
   "source": [
    "### Save Pages"
   ]
  },
  {
   "cell_type": "code",
   "execution_count": 7,
   "id": "3399fcd7-0bc2-4bf8-8b9f-a49a7f7a37fa",
   "metadata": {
    "tags": []
   },
   "outputs": [],
   "source": [
    "for restaurant in restaurant_metadata:\n",
    "    restaurant[\"highest_page_index\"] = None"
   ]
  },
  {
   "cell_type": "code",
   "execution_count": 8,
   "id": "7171e189-4ec0-4298-8b7a-6d280daec49d",
   "metadata": {
    "tags": []
   },
   "outputs": [],
   "source": [
    "from datetime import datetime\n",
    "\n",
    "month_mapping = {\n",
    "    \"Januar\": 1, \"Februar\": 2, \"März\": 3, \"April\": 4, \"Mai\": 5, \"Juni\": 6,\n",
    "    \"Juli\": 7, \"August\": 8, \"September\": 9, \"Oktober\": 10, \"November\": 11, \"Dezember\": 12\n",
    "}\n",
    "\n",
    "def convert_date(date_string):\n",
    "    day, month_name, year = date_string.split()\n",
    "    day = day.replace(\".\", \"\")\n",
    "    month = month_mapping[month_name]\n",
    "    return datetime(int(year), month, int(day))"
   ]
  },
  {
   "cell_type": "code",
   "execution_count": 9,
   "id": "c5673d06-56e2-430f-8df3-e336ce469690",
   "metadata": {
    "tags": []
   },
   "outputs": [],
   "source": [
    "# Only pages with reviews published after 01 October 2022 should be considered in order to primaly collect reviews that do not \n",
    "# address the covid-19 pandemic an thus focusing more on other aspects related to the restaurant. Pages with reviews published before this date should not be considered.\n",
    "def has_review_before_october_2022(soup):\n",
    "    reviews = soup.find_all(\"div\", class_=\"review-container\")\n",
    "    review_dates = [convert_date(review.find(class_='ratingDate')['title']) for review in reviews]\n",
    "    \n",
    "    for date in review_dates:\n",
    "        if date < datetime(2022, 10, 1):\n",
    "            return True\n",
    "    \n",
    "    next_button = soup.find(\"a\", class_=\"nav next ui_button primary\")\n",
    "    next_button_disabled = soup.find(\"a\", class_=\"nav next ui_button primary disabled\")\n",
    "    \n",
    "    if next_button_disabled or next_button == None:\n",
    "        return True\n",
    "    \n",
    "    return False"
   ]
  },
  {
   "cell_type": "code",
   "execution_count": 10,
   "id": "8e4a2102-c3dc-42d1-a754-d1d0b8dd76f6",
   "metadata": {
    "tags": []
   },
   "outputs": [],
   "source": [
    "for restaurant in restaurant_metadata:\n",
    "    page_index = 0\n",
    "    while True:\n",
    "        url = restaurant[\"url\"]\n",
    "        url = url.replace(\"-Reviews-\", \"-Reviews-or\" + str(page_index * 10) +\"-\")\n",
    "        html = get_html_by_url(url)\n",
    "        soup = BeautifulSoup(html, 'html.parser')\n",
    "        with open(PAGES_RESTAURANTS_PATH + f'restaurant_{restaurant[\"id\"]}_pageidx_{page_index}.html', \"w\", encoding=\"utf-8\") as file:\n",
    "            file.write(html)\n",
    "        if has_review_before_october_2022(soup):\n",
    "            next((res.update({\"highest_page_index\": page_index}) for res in restaurant_metadata if res[\"id\"] == restaurant[\"id\"]), None)\n",
    "            break\n",
    "        page_index += 1"
   ]
  },
  {
   "cell_type": "code",
   "execution_count": 11,
   "id": "cb420c47-1b60-46ae-ae52-1604acd0adee",
   "metadata": {
    "tags": []
   },
   "outputs": [],
   "source": [
    "with open(RESTAURANT_METADATA_WITH_HIGHEST_PAGE_INDEX_PATH, 'w') as json_file:\n",
    "    json.dump(restaurant_metadata, json_file)"
   ]
  }
 ],
 "metadata": {
  "kernelspec": {
   "display_name": "Python 3 (ipykernel)",
   "language": "python",
   "name": "python3"
  },
  "language_info": {
   "codemirror_mode": {
    "name": "ipython",
    "version": 3
   },
   "file_extension": ".py",
   "mimetype": "text/x-python",
   "name": "python",
   "nbconvert_exporter": "python",
   "pygments_lexer": "ipython3",
   "version": "3.11.3"
  }
 },
 "nbformat": 4,
 "nbformat_minor": 5
}
