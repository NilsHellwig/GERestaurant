{
 "cells": [
  {
   "cell_type": "markdown",
   "id": "00376d79-6510-4f24-a22f-95739776da39",
   "metadata": {},
   "source": [
    "# Notebook: Explore Addressed Topics"
   ]
  },
  {
   "cell_type": "markdown",
   "id": "85e8415f-736d-41f6-a7c3-1b7f2ea0e813",
   "metadata": {},
   "source": [
    "This notebook is used to explore the topics discussed in reviews previously discussed. "
   ]
  },
  {
   "cell_type": "markdown",
   "id": "612372b9-72c6-4ded-9d3e-7cdadf194858",
   "metadata": {},
   "source": [
    "## Packages"
   ]
  },
  {
   "cell_type": "code",
   "execution_count": 1,
   "id": "56152822-2497-475d-b241-e86503ffe4f6",
   "metadata": {
    "tags": []
   },
   "outputs": [
    {
     "name": "stderr",
     "output_type": "stream",
     "text": [
      "/opt/homebrew/Caskroom/miniforge/base/envs/tensorflow_m1/lib/python3.11/site-packages/umap/distances.py:1063: NumbaDeprecationWarning: The 'nopython' keyword argument was not supplied to the 'numba.jit' decorator. The implicit default value for this argument is currently False, but it will be changed to True in Numba 0.59.0. See https://numba.readthedocs.io/en/stable/reference/deprecation.html#deprecation-of-object-mode-fall-back-behaviour-when-using-jit for details.\n",
      "  @numba.jit()\n",
      "/opt/homebrew/Caskroom/miniforge/base/envs/tensorflow_m1/lib/python3.11/site-packages/umap/distances.py:1071: NumbaDeprecationWarning: The 'nopython' keyword argument was not supplied to the 'numba.jit' decorator. The implicit default value for this argument is currently False, but it will be changed to True in Numba 0.59.0. See https://numba.readthedocs.io/en/stable/reference/deprecation.html#deprecation-of-object-mode-fall-back-behaviour-when-using-jit for details.\n",
      "  @numba.jit()\n",
      "/opt/homebrew/Caskroom/miniforge/base/envs/tensorflow_m1/lib/python3.11/site-packages/umap/distances.py:1086: NumbaDeprecationWarning: The 'nopython' keyword argument was not supplied to the 'numba.jit' decorator. The implicit default value for this argument is currently False, but it will be changed to True in Numba 0.59.0. See https://numba.readthedocs.io/en/stable/reference/deprecation.html#deprecation-of-object-mode-fall-back-behaviour-when-using-jit for details.\n",
      "  @numba.jit()\n",
      "/opt/homebrew/Caskroom/miniforge/base/envs/tensorflow_m1/lib/python3.11/site-packages/umap/umap_.py:660: NumbaDeprecationWarning: The 'nopython' keyword argument was not supplied to the 'numba.jit' decorator. The implicit default value for this argument is currently False, but it will be changed to True in Numba 0.59.0. See https://numba.readthedocs.io/en/stable/reference/deprecation.html#deprecation-of-object-mode-fall-back-behaviour-when-using-jit for details.\n",
      "  @numba.jit()\n"
     ]
    }
   ],
   "source": [
    "from sklearn.cluster import AgglomerativeClustering\n",
    "from sklearn.cluster import KMeans\n",
    "from nltk.corpus import stopwords\n",
    "from bertopic import BERTopic\n",
    "from hdbscan import HDBSCAN\n",
    "from umap import UMAP\n",
    "import pandas as pd\n",
    "import spacy\n",
    "import nltk\n",
    "import re"
   ]
  },
  {
   "cell_type": "markdown",
   "id": "d5a1be27-74ad-4cb8-8edc-0be9c948b119",
   "metadata": {},
   "source": [
    "## Constants"
   ]
  },
  {
   "cell_type": "code",
   "execution_count": 2,
   "id": "49ec3f5c-2096-4826-a5ef-88e6ebec8594",
   "metadata": {},
   "outputs": [
    {
     "name": "stderr",
     "output_type": "stream",
     "text": [
      "[nltk_data] Downloading package stopwords to\n",
      "[nltk_data]     /Users/nils_hellwig/nltk_data...\n",
      "[nltk_data]   Package stopwords is already up-to-date!\n"
     ]
    },
    {
     "data": {
      "text/plain": [
       "True"
      ]
     },
     "execution_count": 2,
     "metadata": {},
     "output_type": "execute_result"
    }
   ],
   "source": [
    "nltk.download('stopwords')"
   ]
  },
  {
   "cell_type": "code",
   "execution_count": 3,
   "id": "64398eaf-1d66-4450-a3e1-bd04ad43c6d7",
   "metadata": {},
   "outputs": [],
   "source": [
    "DATASET_PATH = \"reviews_dataset/balanced_reviews_sentences.csv\"\n",
    "STOPWORDS = set(stopwords.words('german'))\n",
    "N_TOPICS = 6"
   ]
  },
  {
   "cell_type": "markdown",
   "id": "5876060c-8b63-406a-b501-daa5b7fb8ebc",
   "metadata": {},
   "source": [
    "## Code"
   ]
  },
  {
   "cell_type": "code",
   "execution_count": 4,
   "id": "7444ce8e-7fd7-4c8e-bfd5-4ae34c0ee61f",
   "metadata": {},
   "outputs": [],
   "source": [
    "#spacy.cli.download(\"de_core_news_sm\")"
   ]
  },
  {
   "cell_type": "code",
   "execution_count": 5,
   "id": "386c63d7-8862-40b8-8bb6-26fdb9319739",
   "metadata": {},
   "outputs": [],
   "source": [
    "nlp = spacy.load('de_core_news_sm')"
   ]
  },
  {
   "cell_type": "code",
   "execution_count": 6,
   "id": "64f99091-1616-43c1-bdbf-5ffeeb410fd5",
   "metadata": {},
   "outputs": [],
   "source": [
    "dataset = pd.read_csv(DATASET_PATH)"
   ]
  },
  {
   "cell_type": "code",
   "execution_count": 7,
   "id": "e06aa92a-017e-499c-861c-8e084b7ae937",
   "metadata": {},
   "outputs": [],
   "source": [
    "def clean_text(text):\n",
    "    RE_WSPACE = re.compile(r\"\\s+\", re.IGNORECASE)\n",
    "    RE_ASCII = re.compile(r\"[^A-Za-zÀ-ž ]\", re.IGNORECASE)\n",
    "    RE_SINGLECHAR = re.compile(r\"\\b[A-Za-zÀ-ž]\\b\", re.IGNORECASE)\n",
    "\n",
    "    text = re.sub(r'@\\w+', '', text)\n",
    "    text = re.sub(RE_ASCII, \" \", text)\n",
    "    text = re.sub(RE_SINGLECHAR, \" \", text)\n",
    "    text = re.sub(RE_WSPACE, \" \", text)\n",
    "    return text.strip()\n",
    "\n",
    "def lemmatize_remove_stopwords_text(text):\n",
    "    doc = nlp(text)\n",
    "    lemmatized_text = ' '.join([token.lemma_.lower() for token in doc if token.text.lower() not in STOPWORDS])\n",
    "    return lemmatized_text\n",
    "\n",
    "dataset[\"text\"] = dataset[\"text\"].apply(clean_text)\n",
    "dataset[\"text\"] = dataset[\"text\"].apply(lemmatize_remove_stopwords_text)"
   ]
  },
  {
   "cell_type": "code",
   "execution_count": 8,
   "id": "bdf5a9d0-fd79-440a-8f4c-97900d2a61b0",
   "metadata": {},
   "outputs": [],
   "source": [
    "dataset = dataset.text.to_list()"
   ]
  },
  {
   "cell_type": "code",
   "execution_count": 9,
   "id": "b4820d11-491e-4599-a91a-e2648d74bf90",
   "metadata": {},
   "outputs": [],
   "source": [
    "# Use default UMAP but add random state\n",
    "umap_model = UMAP(n_neighbors=15, n_components=5, min_dist=0.0, metric='cosine', random_state=43)\n",
    "model = BERTopic(language=\"german\", nr_topics=N_TOPICS, umap_model=umap_model, top_n_words=20, embedding_model=\"paraphrase-multilingual-MiniLM-L12-v2\")"
   ]
  },
  {
   "cell_type": "code",
   "execution_count": 10,
   "id": "2eb146a8-735f-4155-ac92-dcd56ef55fa1",
   "metadata": {},
   "outputs": [],
   "source": [
    "topics, probabilities = model.fit_transform(dataset)\n",
    "topics = model.reduce_outliers(dataset, topics, strategy=\"distributions\")\n",
    "model.update_topics(dataset, topics, top_n_words=20)"
   ]
  },
  {
   "cell_type": "code",
   "execution_count": 11,
   "id": "63000b6e-b9b6-4660-a7d1-a442abd9d4c1",
   "metadata": {
    "tags": []
   },
   "outputs": [
    {
     "data": {
      "text/html": [
       "<div>\n",
       "<style scoped>\n",
       "    .dataframe tbody tr th:only-of-type {\n",
       "        vertical-align: middle;\n",
       "    }\n",
       "\n",
       "    .dataframe tbody tr th {\n",
       "        vertical-align: top;\n",
       "    }\n",
       "\n",
       "    .dataframe thead th {\n",
       "        text-align: right;\n",
       "    }\n",
       "</style>\n",
       "<table border=\"1\" class=\"dataframe\">\n",
       "  <thead>\n",
       "    <tr style=\"text-align: right;\">\n",
       "      <th></th>\n",
       "      <th>Topic</th>\n",
       "      <th>count</th>\n",
       "    </tr>\n",
       "  </thead>\n",
       "  <tbody>\n",
       "    <tr>\n",
       "      <th>0</th>\n",
       "      <td>0</td>\n",
       "      <td>3710</td>\n",
       "    </tr>\n",
       "    <tr>\n",
       "      <th>1</th>\n",
       "      <td>1</td>\n",
       "      <td>103</td>\n",
       "    </tr>\n",
       "    <tr>\n",
       "      <th>2</th>\n",
       "      <td>2</td>\n",
       "      <td>69</td>\n",
       "    </tr>\n",
       "    <tr>\n",
       "      <th>3</th>\n",
       "      <td>3</td>\n",
       "      <td>56</td>\n",
       "    </tr>\n",
       "    <tr>\n",
       "      <th>4</th>\n",
       "      <td>4</td>\n",
       "      <td>50</td>\n",
       "    </tr>\n",
       "    <tr>\n",
       "      <th>5</th>\n",
       "      <td>-1</td>\n",
       "      <td>12</td>\n",
       "    </tr>\n",
       "  </tbody>\n",
       "</table>\n",
       "</div>"
      ],
      "text/plain": [
       "   Topic  count\n",
       "0      0   3710\n",
       "1      1    103\n",
       "2      2     69\n",
       "3      3     56\n",
       "4      4     50\n",
       "5     -1     12"
      ]
     },
     "execution_count": 11,
     "metadata": {},
     "output_type": "execute_result"
    }
   ],
   "source": [
    "model.get_document_info(dataset)[\"Topic\"].value_counts().reset_index()"
   ]
  },
  {
   "cell_type": "code",
   "execution_count": 12,
   "id": "b6ad0f51-3e1d-48a3-a45e-e1e23beb9d46",
   "metadata": {},
   "outputs": [
    {
     "data": {
      "text/html": [
       "<div>\n",
       "<style scoped>\n",
       "    .dataframe tbody tr th:only-of-type {\n",
       "        vertical-align: middle;\n",
       "    }\n",
       "\n",
       "    .dataframe tbody tr th {\n",
       "        vertical-align: top;\n",
       "    }\n",
       "\n",
       "    .dataframe thead th {\n",
       "        text-align: right;\n",
       "    }\n",
       "</style>\n",
       "<table border=\"1\" class=\"dataframe\">\n",
       "  <thead>\n",
       "    <tr style=\"text-align: right;\">\n",
       "      <th></th>\n",
       "      <th>Topic</th>\n",
       "      <th>count</th>\n",
       "    </tr>\n",
       "  </thead>\n",
       "  <tbody>\n",
       "    <tr>\n",
       "      <th>0</th>\n",
       "      <td>1</td>\n",
       "      <td>3710</td>\n",
       "    </tr>\n",
       "    <tr>\n",
       "      <th>1</th>\n",
       "      <td>2</td>\n",
       "      <td>103</td>\n",
       "    </tr>\n",
       "    <tr>\n",
       "      <th>2</th>\n",
       "      <td>3</td>\n",
       "      <td>69</td>\n",
       "    </tr>\n",
       "    <tr>\n",
       "      <th>3</th>\n",
       "      <td>4</td>\n",
       "      <td>56</td>\n",
       "    </tr>\n",
       "    <tr>\n",
       "      <th>4</th>\n",
       "      <td>5</td>\n",
       "      <td>50</td>\n",
       "    </tr>\n",
       "  </tbody>\n",
       "</table>\n",
       "</div>"
      ],
      "text/plain": [
       "   Topic  count\n",
       "0      1   3710\n",
       "1      2    103\n",
       "2      3     69\n",
       "3      4     56\n",
       "4      5     50"
      ]
     },
     "execution_count": 12,
     "metadata": {},
     "output_type": "execute_result"
    }
   ],
   "source": [
    "topic_statistics = model.get_document_info(dataset)[\"Topic\"].value_counts().reset_index()#.rename(columns={\"index\": \"Topic\", \"Topic\": \"Frequency\"}).sort_values(\"Topic\").reset_index(drop=True)\n",
    "topic_statistics = topic_statistics[topic_statistics[\"Topic\"] != -1]\n",
    "topic_statistics[\"Topic\"] = topic_statistics[\"Topic\"] + 1\n",
    "topic_statistics"
   ]
  },
  {
   "cell_type": "code",
   "execution_count": 13,
   "id": "6d5e0e33-2e84-42a3-ba08-d4d549b1ff93",
   "metadata": {
    "tags": []
   },
   "outputs": [
    {
     "data": {
      "text/html": [
       "<div>\n",
       "<style scoped>\n",
       "    .dataframe tbody tr th:only-of-type {\n",
       "        vertical-align: middle;\n",
       "    }\n",
       "\n",
       "    .dataframe tbody tr th {\n",
       "        vertical-align: top;\n",
       "    }\n",
       "\n",
       "    .dataframe thead th {\n",
       "        text-align: right;\n",
       "    }\n",
       "</style>\n",
       "<table border=\"1\" class=\"dataframe\">\n",
       "  <thead>\n",
       "    <tr style=\"text-align: right;\">\n",
       "      <th></th>\n",
       "      <th>Topic</th>\n",
       "      <th>count</th>\n",
       "      <th>Top Words</th>\n",
       "    </tr>\n",
       "  </thead>\n",
       "  <tbody>\n",
       "    <tr>\n",
       "      <th>0</th>\n",
       "      <td>1</td>\n",
       "      <td>3,710</td>\n",
       "      <td>loc, gut, essen, werden, restaurant</td>\n",
       "    </tr>\n",
       "    <tr>\n",
       "      <th>1</th>\n",
       "      <td>2</td>\n",
       "      <td>103</td>\n",
       "      <td>dessert, kaffee, frühstück, kuchen, espresso</td>\n",
       "    </tr>\n",
       "    <tr>\n",
       "      <th>2</th>\n",
       "      <td>3</td>\n",
       "      <td>69</td>\n",
       "      <td>pizza, pizze, geben, chef, raum</td>\n",
       "    </tr>\n",
       "    <tr>\n",
       "      <th>3</th>\n",
       "      <td>4</td>\n",
       "      <td>56</td>\n",
       "      <td>steak, erlebnis, authentisch, fleisch, völlig</td>\n",
       "    </tr>\n",
       "    <tr>\n",
       "      <th>4</th>\n",
       "      <td>5</td>\n",
       "      <td>50</td>\n",
       "      <td>vegetarisch, vegan, sitzen, variante, vegetarier</td>\n",
       "    </tr>\n",
       "  </tbody>\n",
       "</table>\n",
       "</div>"
      ],
      "text/plain": [
       "   Topic  count                                         Top Words\n",
       "0      1  3,710               loc, gut, essen, werden, restaurant\n",
       "1      2    103      dessert, kaffee, frühstück, kuchen, espresso\n",
       "2      3     69                   pizza, pizze, geben, chef, raum\n",
       "3      4     56     steak, erlebnis, authentisch, fleisch, völlig\n",
       "4      5     50  vegetarisch, vegan, sitzen, variante, vegetarier"
      ]
     },
     "execution_count": 13,
     "metadata": {},
     "output_type": "execute_result"
    }
   ],
   "source": [
    "top_words = []\n",
    "for topic in topic_statistics[\"Topic\"]:\n",
    "    words = model.get_topic(topic - 1)[:5]\n",
    "    top_words.append(', '.join([word[0] for word in words]))\n",
    "    \n",
    "topic_statistics[\"Top Words\"] = top_words\n",
    "\n",
    "def format_frequency(frequency):\n",
    "    return \"{:,}\".format(frequency)\n",
    "\n",
    "# Anwendung der Funktion auf die Spalte \"Frequency\"\n",
    "topic_statistics[\"count\"] = topic_statistics[\"count\"].apply(format_frequency)\n",
    "\n",
    "topic_statistics"
   ]
  },
  {
   "cell_type": "code",
   "execution_count": null,
   "id": "70a32b92-7b0a-4be9-8c5c-d3e795e48b21",
   "metadata": {},
   "outputs": [],
   "source": []
  }
 ],
 "metadata": {
  "kernelspec": {
   "display_name": "Python 3 (ipykernel)",
   "language": "python",
   "name": "python3"
  },
  "language_info": {
   "codemirror_mode": {
    "name": "ipython",
    "version": 3
   },
   "file_extension": ".py",
   "mimetype": "text/x-python",
   "name": "python",
   "nbconvert_exporter": "python",
   "pygments_lexer": "ipython3",
   "version": "3.11.3"
  }
 },
 "nbformat": 4,
 "nbformat_minor": 5
}
