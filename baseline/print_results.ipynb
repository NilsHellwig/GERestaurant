{
 "cells": [
  {
   "cell_type": "markdown",
   "metadata": {},
   "source": [
    "# Notebook: Print Performance in LaTeX Format"
   ]
  },
  {
   "cell_type": "code",
   "execution_count": 32,
   "metadata": {},
   "outputs": [],
   "source": [
    "import json"
   ]
  },
  {
   "cell_type": "code",
   "execution_count": 33,
   "metadata": {},
   "outputs": [],
   "source": [
    "def round_performance(num, decimal_places=2):\n",
    "    formatted_num = \"{:.{}f}\".format(num * 100, decimal_places)\n",
    "    rounded_num_str = \"{:.{}f}\".format(float(formatted_num), decimal_places)\n",
    "    return rounded_num_str"
   ]
  },
  {
   "cell_type": "code",
   "execution_count": 38,
   "metadata": {},
   "outputs": [],
   "source": [
    "decode = {\"aspect_category\": \"ACD\",\n",
    "          \"aspect_category_sentiment\": \"ACSA\",\n",
    "          \"end_2_end_absa\": \"E2E-ABSA\",\n",
    "          # \"target_aspect_sentiment_detection\": \"TASD\"\n",
    "          }"
   ]
  },
  {
   "cell_type": "code",
   "execution_count": 39,
   "metadata": {},
   "outputs": [
    {
     "name": "stdout",
     "output_type": "stream",
     "text": [
      "\\multirow{2}{*}{ACD} & gbert-large & 92.78 & 91.78 \\\\\n",
      "  & gbert-base & 89.58 & 88.35 \\\\\n",
      "\\arrayrulecolor{gray}\\hline\\arrayrulecolor{black}\n",
      "\\multirow{2}{*}{ACSA} & gbert-large & 87.22 & 60.43 \\\\\n",
      "  & gbert-base & 76.27 & 39.42 \\\\\n",
      "\\arrayrulecolor{gray}\\hline\\arrayrulecolor{black}\n",
      "\\multirow{2}{*}{E2E-ABSA} & gbert-large & 81.27 & 77.15 \\\\\n",
      "  & gbert-base & 74.76 & 50.16 \\\\\n",
      "\\hline\n"
     ]
    }
   ],
   "source": [
    "for task_idx, task in enumerate(decode.keys()):\n",
    "    for model_type_idx, model_type in enumerate([\"large\", \"base\"]):\n",
    "        with open(f'results_json/results_{task}_{model_type}.json', 'r') as json_datei:\n",
    "            results = json.load(json_datei)\n",
    "\n",
    "        if model_type_idx == 0:\n",
    "            task_print = '\\\\multirow{2}{*}{' + decode[task] + '}'\n",
    "        else:\n",
    "            task_print = \" \"\n",
    "\n",
    "        if task == \"target_aspect_sentiment_detection\":\n",
    "            model_name = \"t5-\"+model_type \n",
    "            print(task_print + ' & ' + model_name + ' & ' + round_performance(\n",
    "                results[\"eval_f1\"]) + ' & ' + round_performance(results[\"eval_f1_macro\"]) + \" \\\\\\\\\")\n",
    "        else:\n",
    "            model_name = \"gbert-\"+model_type\n",
    "            print(task_print + ' & ' + model_name + ' & ' + round_performance(\n",
    "                results[\"eval_f1_micro\"]) + ' & ' + round_performance(results[\"eval_f1_macro\"]) + \" \\\\\\\\\")\n",
    "    if task_idx == len(decode.keys()) - 1:\n",
    "        print(\"\\\\hline\")\n",
    "    else:\n",
    "        print(\"\\\\arrayrulecolor{gray}\\\\hline\\\\arrayrulecolor{black}\")"
   ]
  },
  {
   "cell_type": "code",
   "execution_count": null,
   "metadata": {},
   "outputs": [],
   "source": []
  }
 ],
 "metadata": {
  "kernelspec": {
   "display_name": "tensorflow_m1",
   "language": "python",
   "name": "python3"
  },
  "language_info": {
   "codemirror_mode": {
    "name": "ipython",
    "version": 3
   },
   "file_extension": ".py",
   "mimetype": "text/x-python",
   "name": "python",
   "nbconvert_exporter": "python",
   "pygments_lexer": "ipython3",
   "version": "3.11.3"
  }
 },
 "nbformat": 4,
 "nbformat_minor": 2
}
