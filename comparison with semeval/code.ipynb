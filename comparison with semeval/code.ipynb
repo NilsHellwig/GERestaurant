{
 "cells": [
  {
   "cell_type": "markdown",
   "metadata": {},
   "source": [
    "# Notebook: Comparison Between GERestaurant and SemEval"
   ]
  },
  {
   "cell_type": "markdown",
   "metadata": {},
   "source": [
    "## Packages"
   ]
  },
  {
   "cell_type": "code",
   "execution_count": 87,
   "metadata": {},
   "outputs": [],
   "source": [
    "import xml.etree.ElementTree as ET\n",
    "from collections import Counter\n",
    "import json\n",
    "import uuid"
   ]
  },
  {
   "cell_type": "markdown",
   "metadata": {},
   "source": [
    "## Settings / Constants"
   ]
  },
  {
   "cell_type": "code",
   "execution_count": 88,
   "metadata": {},
   "outputs": [],
   "source": [
    "ASPECT_CATEGORIES = [\"GENERAL-IMPRESSION\", \"FOOD\", \"SERVICE\", \"AMBIENCE\", \"PRICE\"]"
   ]
  },
  {
   "cell_type": "markdown",
   "metadata": {},
   "source": [
    "## Code"
   ]
  },
  {
   "cell_type": "markdown",
   "metadata": {},
   "source": [
    "### Load Dataset"
   ]
  },
  {
   "cell_type": "code",
   "execution_count": 89,
   "metadata": {},
   "outputs": [],
   "source": [
    "def convert_xml_to_json(xml_file_path):\n",
    "    reviews = []\n",
    "\n",
    "    tree = ET.parse(xml_file_path)\n",
    "    root = tree.getroot()\n",
    "\n",
    "    for review in root.findall(\".//Review\"):\n",
    "        for sentence in review.findall(\".//sentence\"):\n",
    "            review_data = {\"tags\": [], \"text\": \"\"}\n",
    "            opinions = sentence.find(\"Opinions\")\n",
    "            if opinions is not None:\n",
    "                tags = []\n",
    "                for opinion in opinions.findall(\"Opinion\"):\n",
    "                    if opinion.attrib[\"category\"].split(\"#\")[1] == \"PRICES\":\n",
    "                        label = \"PRICE\"\n",
    "                    elif opinion.attrib[\"category\"].split(\"#\")[0] == \"RESTAURANT\":\n",
    "                        label = \"GENERAL-IMPRESSION\"\n",
    "                    elif opinion.attrib[\"category\"].split(\"#\")[0] == \"LOCATION\":\n",
    "                        label = \"AMBIENCE\"\n",
    "                    elif opinion.attrib[\"category\"].split(\"#\")[0] == \"DRINKS\":\n",
    "                        label = \"FOOD\"\n",
    "                    else:\n",
    "                        label = opinion.attrib[\"category\"].split(\"#\")[0]\n",
    "                    tag = {\n",
    "                        \"start\": int(opinion.attrib[\"from\"]),\n",
    "                        \"end\": int(opinion.attrib[\"to\"]),\n",
    "                        \"text\": opinion.attrib[\"target\"],\n",
    "                        \"label\": label,\n",
    "                        \"polarity\": opinion.attrib[\"polarity\"].upper()\n",
    "                    }\n",
    "                    tag[\"tag_with_polarity\"] = f\"{tag['label']}-{tag['polarity']}\"\n",
    "                    if tag[\"text\"] == \"NULL\":\n",
    "                        tag[\"tag_with_polarity_and_type\"] = f\"{tag['label']}-{tag['polarity']}-no-phrase-implicit\"\n",
    "                        tag[\"type\"] = \"label-implicit\"\n",
    "                    else:\n",
    "                        tag[\"tag_with_polarity_and_type\"] = f\"{tag['label']}-{tag['polarity']}-explicit\"\n",
    "                        tag[\"type\"] = \"label-explicit\"\n",
    "                    tags.append(tag)\n",
    "\n",
    "                review_data[\"id\"] = sentence.attrib[\"id\"]\n",
    "                review_data[\"tags\"].extend(tags)\n",
    "                review_data[\"text\"] = sentence.find(\"text\").text\n",
    "\n",
    "                reviews.append(review_data)\n",
    "\n",
    "    return reviews"
   ]
  },
  {
   "cell_type": "markdown",
   "metadata": {},
   "source": [
    "Download GERestaurant from this page:\n",
    "\n",
    "* SemEval-2015-Restaurant Train-Set: [Download](http://metashare.ilsp.gr:8080/repository/browse/semeval-2015-absa-restaurant-reviews-train-data/b2ac9c0c198511e4a109842b2b6a04d751e6725f2ab847df88b19ea22cb5cc4a/)\n",
    "* SemEval-2015-Restaurant Test-Set: [Download](http://metashare.ilsp.gr:8080/repository/browse/semeval-2015-absa-restaurants-reviews-test-data-gold-annotations/d32aeb3e9ca011e4a350842b2b6a04d737ee004f7cdc428bbf1ad4bd67977d22/)\n",
    "* SemEval-2016-Restaurant Train-Set: [Download](http://metashare.ilsp.gr:8080/repository/browse/semeval-2016-absa-restaurant-reviews-english-train-data-subtask-1/cd28e738562f11e59e2c842b2b6a04d703f9dae461bb4816a5d4320019407d23/)\n",
    "* SemEval-2016-Restaurant Test-Set: [Download](http://metashare.ilsp.gr:8080/repository/browse/semeval-2016-absa-restaurant-reviews-english-test-data-gold-subtask-1/42bd97c6d17511e59dbe842b2b6a04d721d1933085814d9daed8fbcbe54c0615/)\n",
    "* Add `.xml` files to subdirectory /SemEval"
   ]
  },
  {
   "cell_type": "code",
   "execution_count": 90,
   "metadata": {},
   "outputs": [],
   "source": [
    "rest15path_train = \"SemEval/ABSA-15_Restaurants_Train_Final.xml\"\n",
    "rest15path_test = \"SemEval/ABSA15_Restaurants_Test.xml\"\n",
    "\n",
    "rest16path_train = \"SemEval/ABSA16_Restaurants_Train_SB1_v2 2.xml\"\n",
    "rest16path_test = \"SemEval/EN_REST_SB1_TEST.xml.gold\""
   ]
  },
  {
   "cell_type": "code",
   "execution_count": 91,
   "metadata": {},
   "outputs": [
    {
     "data": {
      "text/plain": [
       "(1702, 2384)"
      ]
     },
     "execution_count": 91,
     "metadata": {},
     "output_type": "execute_result"
    }
   ],
   "source": [
    "reviews_rest15 = convert_xml_to_json(rest15path_train) + convert_xml_to_json(rest15path_test)\n",
    "reviews_rest16 = convert_xml_to_json(rest16path_train) + convert_xml_to_json(rest16path_test)\n",
    "\n",
    "len(reviews_rest15), len(reviews_rest16)"
   ]
  },
  {
   "cell_type": "code",
   "execution_count": 93,
   "metadata": {},
   "outputs": [
    {
     "data": {
      "text/plain": [
       "3078"
      ]
     },
     "execution_count": 93,
     "metadata": {},
     "output_type": "execute_result"
    }
   ],
   "source": [
    "with open(\"../data/dataset_filtered.json\", \"r\", encoding=\"utf-8\") as json_file:\n",
    "    # JSON-Datei als Dictionary laden\n",
    "    reviews_gerestaurant = json.load(json_file)\n",
    "len(reviews_gerestaurant)"
   ]
  },
  {
   "cell_type": "code",
   "execution_count": 94,
   "metadata": {},
   "outputs": [],
   "source": [
    "datasets = {\"GERestaurant\": reviews_gerestaurant,\n",
    "            \"SemEval-2015 (Restaurant)\": reviews_rest15,\n",
    "            \"SemEval-2016 (Restaurant)\": reviews_rest16}"
   ]
  },
  {
   "cell_type": "markdown",
   "metadata": {},
   "source": [
    "### Analysis"
   ]
  },
  {
   "cell_type": "markdown",
   "metadata": {},
   "source": [
    "#### Category Count"
   ]
  },
  {
   "cell_type": "code",
   "execution_count": 95,
   "metadata": {},
   "outputs": [],
   "source": [
    "def get_category_counts(dataset):\n",
    "    return Counter(tag[\"label\"] for item in dataset for tag in item.get(\"tags\", []))"
   ]
  },
  {
   "cell_type": "code",
   "execution_count": 96,
   "metadata": {},
   "outputs": [
    {
     "name": "stdout",
     "output_type": "stream",
     "text": [
      "GERestaurant & 18.0\\,\\% & 39.7\\,\\% & 25.2\\,\\% & 11.2\\,\\% & 5.9\\,\\%  \\\\\n",
      "SemEval-2015 (Restaurant) & 20.6\\,\\% & 42.6\\,\\% & 17.7\\,\\% & 11.5\\,\\% & 7.5\\,\\%  \\\\\n",
      "SemEval-2016 (Restaurant) & 20.6\\,\\% & 43.6\\,\\% & 17.9\\,\\% & 10.8\\,\\% & 7.1\\,\\%  \\\\\n"
     ]
    }
   ],
   "source": [
    "for dataset_name in datasets.keys():\n",
    "    ac_counts = get_category_counts(datasets[dataset_name])\n",
    "    n_aspects = sum(ac_counts.values())\n",
    "    ac_print = \"\"\n",
    "    for ac in ASPECT_CATEGORIES:\n",
    "        ac_print += str(round(ac_counts[ac] * 100 / n_aspects, 1))+\"\\,\\%\" + \" & \"\n",
    "    ac_print = ac_print[:-2]\n",
    "\n",
    "    print(dataset_name, \"&\", ac_print, \"\\\\\\\\\")"
   ]
  },
  {
   "cell_type": "markdown",
   "metadata": {},
   "source": [
    "#### Polarity Count"
   ]
  },
  {
   "cell_type": "code",
   "execution_count": 97,
   "metadata": {},
   "outputs": [],
   "source": [
    "def get_polarity_counts(dataset):\n",
    "    return Counter(tag[\"polarity\"] for item in dataset for tag in item.get(\"tags\", []))"
   ]
  },
  {
   "cell_type": "code",
   "execution_count": 98,
   "metadata": {},
   "outputs": [
    {
     "name": "stdout",
     "output_type": "stream",
     "text": [
      "GERestaurant & 54.2\\% & 41.6\\% & 4.2\\%  \\\\\n",
      "SemEval-2015 (Restaurant) & 66.1\\% & 30.0\\% & 3.9\\%  \\\\\n",
      "SemEval-2016 (Restaurant) & 67.4\\% & 28.3\\% & 4.3\\%  \\\\\n"
     ]
    }
   ],
   "source": [
    "for dataset_name in datasets.keys():\n",
    "    pol_counts = get_polarity_counts(datasets[dataset_name])\n",
    "    n_aspects = sum(pol_counts.values())\n",
    "    pol_print = \"\"\n",
    "    for pol in [\"POSITIVE\", \"NEGATIVE\", \"NEUTRAL\"]:\n",
    "        pol_print += str(round(pol_counts[pol] * 100 / n_aspects, 1))+\"\\%\" + \" & \"\n",
    "    pol_print = pol_print[:-2]\n",
    "\n",
    "    print(dataset_name, \"&\", pol_print, \"\\\\\\\\\")"
   ]
  },
  {
   "cell_type": "markdown",
   "metadata": {},
   "source": [
    "#### Implicit vs Explicit Count"
   ]
  },
  {
   "cell_type": "code",
   "execution_count": 101,
   "metadata": {},
   "outputs": [],
   "source": [
    "def get_phrase_type_counts(dataset):\n",
    "    return Counter(tag[\"type\"] for item in dataset for tag in item.get(\"tags\", []))"
   ]
  },
  {
   "cell_type": "code",
   "execution_count": 103,
   "metadata": {},
   "outputs": [
    {
     "name": "stdout",
     "output_type": "stream",
     "text": [
      "GERestaurant & 27.0\\% & 73.0\\%  \\\\\n",
      "SemEval-2015 (Restaurant) & 24.9\\% & 75.1\\%  \\\\\n",
      "SemEval-2016 (Restaurant) & 24.8\\% & 75.2\\%  \\\\\n"
     ]
    }
   ],
   "source": [
    "for dataset_name in datasets.keys():\n",
    "    phrase_type_counts = get_phrase_type_counts(datasets[dataset_name])\n",
    "    n_phrase_types = sum(phrase_type_counts.values())\n",
    "    phrase_type_print = \"\"\n",
    "    for ptype in [\"label-implicit\", \"label-explicit\"]:\n",
    "        phrase_type_print += str(round(phrase_type_counts[ptype] * 100 / n_phrase_types, 1))+\"\\%\" + \" & \"\n",
    "    phrase_type_print = phrase_type_print[:-2]\n",
    "\n",
    "    print(dataset_name, \"&\", phrase_type_print, \"\\\\\\\\\")"
   ]
  },
  {
   "cell_type": "markdown",
   "metadata": {},
   "source": [
    "#### Dokumente, die in SemEval14 und SemEval15 vorkommen"
   ]
  },
  {
   "cell_type": "code",
   "execution_count": 99,
   "metadata": {},
   "outputs": [],
   "source": [
    "idsA = [review[\"id\"] for review in reviews_rest15]\n",
    "idsB = [review[\"id\"] for review in reviews_rest16]"
   ]
  },
  {
   "cell_type": "code",
   "execution_count": 100,
   "metadata": {},
   "outputs": [
    {
     "name": "stdout",
     "output_type": "stream",
     "text": [
      "Anzahl der Texte in Rest15: 1702\n",
      "Anzahl der Texte in Rest16: 2384\n",
      "Anzahl der Texte, die sowohl in Rest15 als auch in Rest16 vorkommen: 1700\n"
     ]
    }
   ],
   "source": [
    "# Annahme: textsA und textsB sind bereits definiert\n",
    "\n",
    "# Länge der Listen textsA und textsB bestimmen\n",
    "anzahl_texte_A = len(idsA)\n",
    "anzahl_texte_B = len(idsB)\n",
    "\n",
    "# Anzahl der Texte, die in beiden Listen vorkommen\n",
    "anzahl_gemeinsame_texte = len(set(idsA).intersection(idsB))\n",
    "\n",
    "print(\"Anzahl der Texte in Rest15:\", anzahl_texte_A)\n",
    "print(\"Anzahl der Texte in Rest16:\", anzahl_texte_B)\n",
    "print(\"Anzahl der Texte, die sowohl in Rest15 als auch in Rest16 vorkommen:\", anzahl_gemeinsame_texte)\n"
   ]
  }
 ],
 "metadata": {
  "kernelspec": {
   "display_name": "Python 3 (ipykernel)",
   "language": "python",
   "name": "python3"
  },
  "language_info": {
   "codemirror_mode": {
    "name": "ipython",
    "version": 3
   },
   "file_extension": ".py",
   "mimetype": "text/x-python",
   "name": "python",
   "nbconvert_exporter": "python",
   "pygments_lexer": "ipython3",
   "version": "3.10.12"
  }
 },
 "nbformat": 4,
 "nbformat_minor": 4
}
