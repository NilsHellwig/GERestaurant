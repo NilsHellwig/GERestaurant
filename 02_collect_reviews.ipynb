{
 "cells": [
  {
   "cell_type": "markdown",
   "id": "dd14b58c-dbd8-46e2-b9ea-69c7dd725395",
   "metadata": {},
   "source": [
    "# Notebook: Collect Reviews"
   ]
  },
  {
   "cell_type": "markdown",
   "id": "236c1bc8-f4be-445b-a931-9591a9efde3f",
   "metadata": {},
   "source": [
    "This notebook is used to collect the restaurant reviews from each page listing reviews for a specific restaurant. First, the reviews are collected in the form of a .html file."
   ]
  },
  {
   "cell_type": "markdown",
   "id": "365ed91e-ce91-40e2-a39f-aabb6718ca5b",
   "metadata": {},
   "source": [
    "## Packages"
   ]
  },
  {
   "cell_type": "code",
   "execution_count": 1,
   "id": "29194bd1-ac51-4e02-9d54-9aff982f8fdf",
   "metadata": {
    "tags": []
   },
   "outputs": [],
   "source": [
    "from bs4 import BeautifulSoup\n",
    "import pandas as pd\n",
    "import requests\n",
    "import json\n",
    "import re"
   ]
  },
  {
   "cell_type": "code",
   "execution_count": 2,
   "id": "e4b3c474-d17c-4898-9a90-f0bce3050fe6",
   "metadata": {},
   "outputs": [],
   "source": [
    "import urllib3\n",
    "urllib3.disable_warnings(urllib3.exceptions.InsecureRequestWarning)"
   ]
  },
  {
   "cell_type": "markdown",
   "id": "835bc8cd-1006-4be0-ab82-11c381b5ba31",
   "metadata": {
    "tags": []
   },
   "source": [
    "## Constants"
   ]
  },
  {
   "cell_type": "code",
   "execution_count": 3,
   "id": "f5995d10-7838-4083-bd93-3b6eaf321c02",
   "metadata": {
    "tags": []
   },
   "outputs": [],
   "source": [
    "# Source: https://stackoverflow.com/questions/69946941/python-beautifulsoup-web-scraping-tripadvisor-view-a-review\n",
    "REQUEST_HEADER = {\n",
    "    'Access-Control-Allow-Origin': '*',\n",
    "    'Access-Control-Allow-Methods': 'GET',\n",
    "    'Access-Control-Allow-Headers': 'Content-Type',\n",
    "    'accept': '*/*',\n",
    "    'accept-encoding': 'gzip, deflate',\n",
    "    'accept-language': 'en,mr;q=0.9',\n",
    "    'User-Agent': 'Mozilla/5.0 (Windows NT 10.0; Win64; x64) AppleWebKit/537.36 (KHTML, like Gecko) Chrome/95.0.4638.69 Safari/537.36'\n",
    "}"
   ]
  },
  {
   "cell_type": "code",
   "execution_count": 4,
   "id": "4f65dd6b-80e1-4e31-bcdf-9914c848cb3b",
   "metadata": {
    "tags": []
   },
   "outputs": [],
   "source": [
    "RESTAURANT_URLS = \"restaurant_metadata_with_highest_page_index.json\"\n",
    "REVIEWS_RESTAURANTS_PATH = \"reviews_restaurants_html/\"\n",
    "PAGES_RESTAURANTS_PATH = \"pages_restaurants_html/\"\n",
    "REVIEWS_PATH = \"reviews_dataset/reviews_urls.csv\""
   ]
  },
  {
   "cell_type": "markdown",
   "id": "84e5483c-9cb7-4d0d-b65a-e2c2a1089732",
   "metadata": {},
   "source": [
    "## Code"
   ]
  },
  {
   "cell_type": "markdown",
   "id": "337719e1-6119-4a16-842d-d34cd8b2bb81",
   "metadata": {},
   "source": [
    "### Load Dataset"
   ]
  },
  {
   "cell_type": "code",
   "execution_count": 5,
   "id": "7dd56414-5260-40ce-8b6d-7834cc75c86a",
   "metadata": {
    "tags": []
   },
   "outputs": [],
   "source": [
    "with open(RESTAURANT_URLS, 'r') as json_file:\n",
    "    restaurant_metadata = json.load(json_file)"
   ]
  },
  {
   "cell_type": "markdown",
   "id": "924915cd-67ea-479d-b3a2-18fa5526c142",
   "metadata": {},
   "source": [
    "### Save reviews"
   ]
  },
  {
   "cell_type": "code",
   "execution_count": 6,
   "id": "59a453d7-d7da-44cd-9e03-4b921e54d725",
   "metadata": {
    "tags": []
   },
   "outputs": [],
   "source": [
    "def get_html_by_url(url):\n",
    "    response = requests.get(url, headers=REQUEST_HEADER)\n",
    "    html_content = response.text\n",
    "    return html_content"
   ]
  },
  {
   "cell_type": "code",
   "execution_count": 7,
   "id": "8e4a2102-c3dc-42d1-a754-d1d0b8dd76f6",
   "metadata": {
    "tags": []
   },
   "outputs": [],
   "source": [
    "data = []\n",
    "\n",
    "for restaurant in restaurant_metadata:\n",
    "    for page_index in range(0, restaurant[\"highest_page_index\"]+1):\n",
    "        path_review =  PAGES_RESTAURANTS_PATH + \"restaurant_\" + str(restaurant[\"id\"]) + \"_pageidx_\" + str(page_index) + \".html\"\n",
    "        with open(path_review, 'r', encoding='utf-8') as file:\n",
    "            html_content = file.read()\n",
    "        soup = BeautifulSoup(html_content, 'html.parser')\n",
    "        reviews = soup.find_all(\"div\", class_=\"review-container\")\n",
    "        for review in reviews:\n",
    "            review_url = \"https://www.tripadvisor.de\" + review.find('a', class_='title').get('href')\n",
    "            review_id = re.search(r'-r(\\d+)', review_url).group(1)\n",
    "            \n",
    "            data.append({\"review_id\": review_id, \"restaurant_id\": restaurant[\"id\"], \"page_index\": page_index, \"review_url\": review_url})\n",
    "            \n",
    "            html_content = get_html_by_url(review_url)\n",
    "            with open(REVIEWS_RESTAURANTS_PATH + f'restaurant_{restaurant[\"id\"]}_review_{review_id}.html', \"w\", encoding=\"utf-8\") as file:\n",
    "                file.write(html_content)"
   ]
  },
  {
   "cell_type": "code",
   "execution_count": null,
   "id": "22cad045-933d-47f7-9018-68d94c134dc0",
   "metadata": {},
   "outputs": [],
   "source": [
    "df = pd.DataFrame(data)\n",
    "df.to_csv(REVIEWS_PATH, index=False)"
   ]
  }
 ],
 "metadata": {
  "kernelspec": {
   "display_name": "Python 3 (ipykernel)",
   "language": "python",
   "name": "python3"
  },
  "language_info": {
   "codemirror_mode": {
    "name": "ipython",
    "version": 3
   },
   "file_extension": ".py",
   "mimetype": "text/x-python",
   "name": "python",
   "nbconvert_exporter": "python",
   "pygments_lexer": "ipython3",
   "version": "3.11.3"
  }
 },
 "nbformat": 4,
 "nbformat_minor": 5
}
